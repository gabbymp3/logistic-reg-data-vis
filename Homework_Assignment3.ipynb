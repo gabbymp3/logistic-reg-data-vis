{
 "cells": [
  {
   "cell_type": "raw",
   "id": "ee557d1e-faea-4aac-9d84-18c6af096c62",
   "metadata": {},
   "source": [
    "---\n",
    "title: \"Homework Assignment 3\"\n",
    "subtitle: \"Classification\"\n",
    "format: \n",
    "  html:\n",
    "    toc: true\n",
    "    toc-title: Contents\n",
    "    code-fold: show\n",
    "    embed-resources: true\n",
    "jupyter: python3\n",
    "---"
   ]
  },
  {
   "cell_type": "markdown",
   "id": "03051ac1-5ba9-4830-bfe8-77d4a380a97f",
   "metadata": {},
   "source": [
    "## Instructions\n",
    "\n",
    "1. Do not write your name on the assignment. Be careful about any warnings that might display some file path with your name included.\n",
    "\n",
    "2. You may talk to a friend, discuss the questions and potential directions for solving them. However, you need to write your own solutions and code separately, and not as a group activity.\n",
    "\n",
    "3. Write your code in the *Code* cells and print the instructed output. If you are instructed to explain something in words, write your answer in the *Markdown* cells of the Jupyter notebook. Ensure that the solution is coded and/or written neatly enough to understand and grade.\n",
    "\n",
    "4. Use [Quarto](https://quarto.org/docs/output-formats/html-basics.html) to render the *.ipynb* file as HTML. You will need to open the command prompt, navigate to the directory containing the file, and use the command: `quarto render filename.ipynb --to html`. Submit the HTML file.\n",
    "\n",
    "5. This assignment is worth 100 points and is due on **February 17, 2025 at 11:59 pm**. \n",
    "\n",
    "6. **Five points given for properly formatting the assignment**. The breakdown is as follows:\n",
    "- The submission must be an HTML file rendered using Quarto. (2 points).\n",
    "- There are not excessively long outputs of extraneous information. (e.g. no printouts of entire data frames without good reason; there are not long printouts of which iteration a loop is on; there are not long sections of commented-out code, etc.) (1 point)\n",
    "- Final answers for each question are written in Markdown cells. (1 point).\n",
    "- There is no piece of unnecessary / redundant code, and no unnecessary / redundant text. (1 point)"
   ]
  },
  {
   "cell_type": "markdown",
   "id": "007ce3ce-f1a0-4f3b-8699-3766b10fcee7",
   "metadata": {},
   "source": [
    "## Introduction (0 points)"
   ]
  },
  {
   "cell_type": "markdown",
   "id": "45c0f9fd-49f6-4127-b991-b9a6728ed4e0",
   "metadata": {},
   "source": [
    "Read the data from **train.csv**, **test1.csv**, and **test2.csv**. All three datasets are about direct marketing campaigns for a Portuguese banking institution. The marketing campaigns were based on phone calls, where bank clients were called to subscribe for a term deposit. Each observation is a phone call and the variables are as follows:\n",
    "\n",
    "1. `age`: Age of the client\n",
    "\n",
    "2. `education`: Education level of the client \n",
    "\n",
    "3. `day`: Day of the month the call is made\n",
    "\n",
    "4. `month`: Month of the call \n",
    "\n",
    "5. `y`: Whether the client subscribed to a term deposit or not (This is the classification response.)\n",
    "\n",
    "6. `duration`: Call duration, in seconds. This variable highly affects the output (e.g., if duration=0 then y='no'). Yet, the `duration` is not known before a call is performed. Also, after the end of the call, `y` is usually known. Therefore, it is a better idea to use this variable only for inference purposes and discard it if the intention is to have a realistic predictive model.\n",
    "\n",
    "You will use these three datasets throughout this assignment. The data from **train.csv** will be the training dataset and the data from **test1.csv** and **test2.csv** will be the two test datasets.\n",
    "\n",
    "(Source: [UCI Data Archive](https://archive.ics.uci.edu/ml/datasets/bank+marketing). Please use the given datasets for the assignment, not the raw data from the source. It is just for reference.)"
   ]
  },
  {
   "cell_type": "markdown",
   "id": "080e4491-18f7-4d9b-abb5-54fdd0b77b86",
   "metadata": {},
   "source": [
    "## 1) Investigating the Effect of Call Duration on Subscription Probability (41 points)"
   ]
  },
  {
   "cell_type": "markdown",
   "id": "fb506f8c-ab61-405c-9c07-7a2b41d61438",
   "metadata": {},
   "source": [
    "### a)\n",
    "\n",
    "First of all, you need a numeric response variable for your statsmodels function. (Numeric, not Boolean!) Convert the response variable, `y`, of all three datasets into 0s for 'no' and 1s for 'yes'. **(2 points)**"
   ]
  },
  {
   "cell_type": "code",
   "execution_count": 8,
   "id": "408268b4-d7fb-4b8b-bb5e-ea1ee1756a16",
   "metadata": {},
   "outputs": [],
   "source": [
    "import numpy as np\n",
    "import pandas as pd\n",
    "import matplotlib.pyplot as plt\n",
    "import seaborn as sns\n",
    "\n",
    "import statsmodels.formula.api as smf\n",
    "from sklearn.linear_model import LogisticRegression\n",
    "from sklearn.preprocessing import StandardScaler, MinMaxScaler, PolynomialFeatures, OneHotEncoder\n",
    "\n",
    "from sklearn.metrics import accuracy_score, recall_score, precision_score,confusion_matrix\n",
    "from sklearn.metrics import roc_curve, auc, roc_auc_score, precision_recall_curve"
   ]
  },
  {
   "cell_type": "code",
   "execution_count": 9,
   "id": "203cd86a-9d49-46e4-a17d-c0174524fd5a",
   "metadata": {},
   "outputs": [],
   "source": [
    "train = pd.read_csv('train.csv')\n",
    "test1 = pd.read_csv('test1.csv')\n",
    "test2 = pd.read_csv('test2.csv')\n",
    "\n",
    "test1['y'] = test1['y'].map({'no':0, 'yes':1})\n",
    "test2['y'] = test2['y'].map({'no':0, 'yes':1})\n",
    "train['y'] = train['y'].map({'no':0, 'yes':1})"
   ]
  },
  {
   "cell_type": "markdown",
   "id": "00418bde-8895-4eaf-a168-950994292716",
   "metadata": {},
   "source": [
    "### b)\n",
    "\n",
    "Using the training data and the **statsmodels** library, create and train a logistic regression model that predicts whether the client subscribed to a term deposit or not by using the call `duration` as the only predictor. Print the model summary. **(2 points)**\n",
    "\n",
    "You will use this model to answer all the remaining parts of this question."
   ]
  },
  {
   "cell_type": "code",
   "execution_count": 11,
   "id": "bf7e92b0-bcb9-4378-875a-b846875c79f6",
   "metadata": {},
   "outputs": [
    {
     "name": "stdout",
     "output_type": "stream",
     "text": [
      "Optimization terminated successfully.\n",
      "         Current function value: 0.305028\n",
      "         Iterations 7\n"
     ]
    },
    {
     "data": {
      "text/html": [
       "<table class=\"simpletable\">\n",
       "<caption>Logit Regression Results</caption>\n",
       "<tr>\n",
       "  <th>Dep. Variable:</th>           <td>y</td>        <th>  No. Observations:  </th>  <td> 35000</td> \n",
       "</tr>\n",
       "<tr>\n",
       "  <th>Model:</th>                 <td>Logit</td>      <th>  Df Residuals:      </th>  <td> 34998</td> \n",
       "</tr>\n",
       "<tr>\n",
       "  <th>Method:</th>                 <td>MLE</td>       <th>  Df Model:          </th>  <td>     1</td> \n",
       "</tr>\n",
       "<tr>\n",
       "  <th>Date:</th>            <td>Mon, 17 Feb 2025</td> <th>  Pseudo R-squ.:     </th>  <td>0.1560</td> \n",
       "</tr>\n",
       "<tr>\n",
       "  <th>Time:</th>                <td>22:06:04</td>     <th>  Log-Likelihood:    </th> <td> -10676.</td>\n",
       "</tr>\n",
       "<tr>\n",
       "  <th>converged:</th>             <td>True</td>       <th>  LL-Null:           </th> <td> -12650.</td>\n",
       "</tr>\n",
       "<tr>\n",
       "  <th>Covariance Type:</th>     <td>nonrobust</td>    <th>  LLR p-value:       </th>  <td> 0.000</td> \n",
       "</tr>\n",
       "</table>\n",
       "<table class=\"simpletable\">\n",
       "<tr>\n",
       "      <td></td>         <th>coef</th>     <th>std err</th>      <th>z</th>      <th>P>|z|</th>  <th>[0.025</th>    <th>0.975]</th>  \n",
       "</tr>\n",
       "<tr>\n",
       "  <th>Intercept</th> <td>   -3.1841</td> <td>    0.030</td> <td> -107.465</td> <td> 0.000</td> <td>   -3.242</td> <td>   -3.126</td>\n",
       "</tr>\n",
       "<tr>\n",
       "  <th>duration</th>  <td>    0.0035</td> <td> 6.24e-05</td> <td>   56.446</td> <td> 0.000</td> <td>    0.003</td> <td>    0.004</td>\n",
       "</tr>\n",
       "</table>"
      ],
      "text/latex": [
       "\\begin{center}\n",
       "\\begin{tabular}{lclc}\n",
       "\\toprule\n",
       "\\textbf{Dep. Variable:}   &        y         & \\textbf{  No. Observations:  } &    35000    \\\\\n",
       "\\textbf{Model:}           &      Logit       & \\textbf{  Df Residuals:      } &    34998    \\\\\n",
       "\\textbf{Method:}          &       MLE        & \\textbf{  Df Model:          } &        1    \\\\\n",
       "\\textbf{Date:}            & Mon, 17 Feb 2025 & \\textbf{  Pseudo R-squ.:     } &   0.1560    \\\\\n",
       "\\textbf{Time:}            &     22:06:04     & \\textbf{  Log-Likelihood:    } &   -10676.   \\\\\n",
       "\\textbf{converged:}       &       True       & \\textbf{  LL-Null:           } &   -12650.   \\\\\n",
       "\\textbf{Covariance Type:} &    nonrobust     & \\textbf{  LLR p-value:       } &    0.000    \\\\\n",
       "\\bottomrule\n",
       "\\end{tabular}\n",
       "\\begin{tabular}{lcccccc}\n",
       "                   & \\textbf{coef} & \\textbf{std err} & \\textbf{z} & \\textbf{P$> |$z$|$} & \\textbf{[0.025} & \\textbf{0.975]}  \\\\\n",
       "\\midrule\n",
       "\\textbf{Intercept} &      -3.1841  &        0.030     &  -107.465  &         0.000        &       -3.242    &       -3.126     \\\\\n",
       "\\textbf{duration}  &       0.0035  &     6.24e-05     &    56.446  &         0.000        &        0.003    &        0.004     \\\\\n",
       "\\bottomrule\n",
       "\\end{tabular}\n",
       "%\\caption{Logit Regression Results}\n",
       "\\end{center}"
      ],
      "text/plain": [
       "<class 'statsmodels.iolib.summary.Summary'>\n",
       "\"\"\"\n",
       "                           Logit Regression Results                           \n",
       "==============================================================================\n",
       "Dep. Variable:                      y   No. Observations:                35000\n",
       "Model:                          Logit   Df Residuals:                    34998\n",
       "Method:                           MLE   Df Model:                            1\n",
       "Date:                Mon, 17 Feb 2025   Pseudo R-squ.:                  0.1560\n",
       "Time:                        22:06:04   Log-Likelihood:                -10676.\n",
       "converged:                       True   LL-Null:                       -12650.\n",
       "Covariance Type:            nonrobust   LLR p-value:                     0.000\n",
       "==============================================================================\n",
       "                 coef    std err          z      P>|z|      [0.025      0.975]\n",
       "------------------------------------------------------------------------------\n",
       "Intercept     -3.1841      0.030   -107.465      0.000      -3.242      -3.126\n",
       "duration       0.0035   6.24e-05     56.446      0.000       0.003       0.004\n",
       "==============================================================================\n",
       "\"\"\""
      ]
     },
     "execution_count": 11,
     "metadata": {},
     "output_type": "execute_result"
    }
   ],
   "source": [
    "trained_model = smf.logit(formula='y~duration', data=train).fit()\n",
    "trained_model.summary()"
   ]
  },
  {
   "cell_type": "markdown",
   "id": "9ce7c439-1b87-49b8-9d72-e127ab3dec35",
   "metadata": {},
   "source": [
    "### c)\n",
    "\n",
    "Is the effect of the call duration on the probability of client subscription statistically significant? **You need to justify your answer for credit.** **(2 points)**"
   ]
  },
  {
   "cell_type": "markdown",
   "id": "4c33fdd6-cc9b-4dce-9e8b-a4403ed71fd7",
   "metadata": {},
   "source": [
    "The effect of call duration on subscription is statistically significant because the p-value is < 0.05."
   ]
  },
  {
   "cell_type": "markdown",
   "id": "1eca5fe1-3220-47f1-b1b0-924ba590a72c",
   "metadata": {},
   "source": [
    "### d)\n",
    "\n",
    "What is the probability of the client subscribing after a 5-minute marketing call? (Note that `duration` is in seconds.) **(3 points)**"
   ]
  },
  {
   "cell_type": "code",
   "execution_count": 15,
   "id": "d270ee7a-9b7e-4074-9af0-a3096f0e0c95",
   "metadata": {},
   "outputs": [
    {
     "data": {
      "text/plain": [
       "0    0.106491\n",
       "dtype: float64"
      ]
     },
     "execution_count": 15,
     "metadata": {},
     "output_type": "execute_result"
    }
   ],
   "source": [
    "trained_model.predict(pd.DataFrame({'duration':[300]}))"
   ]
  },
  {
   "cell_type": "markdown",
   "id": "d2e34551-dd08-4441-a48e-85243090a6c5",
   "metadata": {},
   "source": [
    "The probability of a client subscribing after a 5-minute call is about 10%."
   ]
  },
  {
   "cell_type": "markdown",
   "id": "4bd35ad2-6d0a-402e-9bea-44f0de41c065",
   "metadata": {},
   "source": [
    "### e)\n",
    "\n",
    "How many **minutes** are necessary in a marketing call to have at least 95% probability of the client subscribing? **(4 points)**"
   ]
  },
  {
   "cell_type": "code",
   "execution_count": 18,
   "id": "a9934ebf-f7c1-48d4-916f-06ded1563e5a",
   "metadata": {},
   "outputs": [
    {
     "data": {
      "text/plain": [
       "28.989940038597858"
      ]
     },
     "execution_count": 18,
     "metadata": {},
     "output_type": "execute_result"
    }
   ],
   "source": [
    "# log(0.95/1-.95) = trained_model.params['Intercept'] + trained_model.params['duration']*duration\n",
    "((np.log(0.95/0.05) - trained_model.params['Intercept'])/trained_model.params['duration'])/60"
   ]
  },
  {
   "cell_type": "markdown",
   "id": "221f6535-3350-4f26-8cab-32357c791958",
   "metadata": {},
   "source": [
    "29 minutes are necessary in a marketing call to have at least 95% probability of the client subscription."
   ]
  },
  {
   "cell_type": "markdown",
   "id": "f3234bd5-3e54-4348-8966-29950b81a5ee",
   "metadata": {},
   "source": [
    "### f)\n",
    "\n",
    "What is the percentage increase in the odds of the client subscribing when the call duration increases by a **minute**? **(4 points)**"
   ]
  },
  {
   "cell_type": "code",
   "execution_count": 21,
   "id": "3e5bba9e-62b2-4cf1-80c5-6a3722ecea16",
   "metadata": {},
   "outputs": [
    {
     "name": "stdout",
     "output_type": "stream",
     "text": [
      "Percentage increase in odds of subscription per minute duration:    23.540942175386583%\n"
     ]
    }
   ],
   "source": [
    "per_min = (np.exp(60*trained_model.params['duration']) - 1)*100\n",
    "print(f'Percentage increase in odds of subscription per minute duration:    {per_min}%')\n"
   ]
  },
  {
   "cell_type": "markdown",
   "id": "016939df-5395-4880-b3e8-726eb82ffbdf",
   "metadata": {},
   "source": [
    "### g)\n",
    "\n",
    "How many **minutes** need to be added to the duration of a marketing call to double the odds of the client subscribing? **(3 points)**"
   ]
  },
  {
   "cell_type": "code",
   "execution_count": 23,
   "id": "5afa811c-1173-465a-af68-642455c501a5",
   "metadata": {},
   "outputs": [
    {
     "name": "stdout",
     "output_type": "stream",
     "text": [
      "3.278804213193095\n",
      "About 3 min 18 sec\n"
     ]
    }
   ],
   "source": [
    "print(np.log(2)/trained_model.params['duration']/60)\n",
    "\n",
    "print(f'About 3 min 18 sec')"
   ]
  },
  {
   "cell_type": "markdown",
   "id": "1c071ed8-f34d-4379-aca1-f88e993e53db",
   "metadata": {},
   "source": [
    "### h)\n",
    "\n",
    "After exploring the model coefficients, it is time to see the limitations of this rather simplistic model. \n",
    "\n",
    "In the training data, what is the `duration` (in minutes) of the longest call after which the client refused to subscribe? (To clarify, this question has nothing to do with the model; you only need to use the training data.) **(2 points)**\n",
    "\n",
    "For that duration/client, what is the predicted subscription probability of the model? **(2 points)**"
   ]
  },
  {
   "cell_type": "code",
   "execution_count": 25,
   "id": "c369e46c-77fd-4013-b544-3397219dec16",
   "metadata": {},
   "outputs": [
    {
     "name": "stdout",
     "output_type": "stream",
     "text": [
      "Max call duration with no client subscription:  81.96666666666667\n",
      "34120    99.999928\n",
      "dtype: float64\n",
      "Probability of subscription for max call duration is predicted to be 99.99%, i.e., almost certain.\n"
     ]
    }
   ],
   "source": [
    "max = train[train.y == 0].duration.max()\n",
    "max_idx = train[train.y == 0].duration.idxmax()\n",
    "print(f'Max call duration with no client subscription:  {max/60}')\n",
    "\n",
    "\n",
    "print(trained_model.predict(train.loc[[max_idx], ['duration']])*100)\n",
    "print(f'Probability of subscription for max call duration is predicted to be 99.99%, i.e., almost certain.')"
   ]
  },
  {
   "cell_type": "markdown",
   "id": "0c6e2e78-620b-4dc7-9749-2f35c0a703bc",
   "metadata": {},
   "source": [
    "### i)\n",
    "\n",
    "Use a scatterplot to visualize the data. You need to plot the classes (y-axis) against the duration values. **(2 points)** Add some [small random noise](https://numpy.org/doc/2.1/reference/random/generated/numpy.random.normal.html) (also called jitter) on the class values to visualize as many observations as possible. **(1 point)** On top of that, add the curve that the model fits to this data. **(2 points)** You should see a sigmoid fit without its bottom end. Does it look like the duration of the call is enough by itself to predict whether the client will subscribe or not? **(1 point)** Why or why not? **(1 point)**"
   ]
  },
  {
   "cell_type": "code",
   "execution_count": 27,
   "id": "63b7ae8b-0307-48e2-a01b-03eadf373313",
   "metadata": {},
   "outputs": [
    {
     "data": {
      "text/plain": [
       "<Axes: xlabel='duration', ylabel='y'>"
      ]
     },
     "execution_count": 27,
     "metadata": {},
     "output_type": "execute_result"
    },
    {
     "data": {
      "image/png": "[encoded data removed]",
      "text/plain": [
       "<Figure size 640x480 with 1 Axes>"
      ]
     },
     "metadata": {},
     "output_type": "display_data"
    }
   ],
   "source": [
    "sns.scatterplot(x=train.duration, y=train.y + np.random.normal(loc=0.0, scale = 0.025, size=train.y.shape), data=train)\n",
    "sns.lineplot( x=train.duration, y=trained_model.predict(train),data=train, color = 'red')"
   ]
  },
  {
   "cell_type": "markdown",
   "id": "fcb846c8-ea69-429e-b6dc-917c72008004",
   "metadata": {},
   "source": [
    "### j)\n",
    "\n",
    "Using a decision threshold of 0.5, find and print the accuracy and recall scores for both test datasets (4 scores in total). **(2 points)** For each test dataset, you should see a big difference between the accuracy and recall scores. Explain why this is happening and which metric is a more realistic evaluation of the prediction performance. **(3 points)**\n",
    "\n",
    "**Note:** Your explanation should include the value counts of both classes. You may consider printing the value counts as well."
   ]
  },
  {
   "cell_type": "code",
   "execution_count": 29,
   "id": "a911b6b0-c055-4486-a588-039a90140934",
   "metadata": {},
   "outputs": [
    {
     "name": "stdout",
     "output_type": "stream",
     "text": [
      "Test1 - Accuracy = 0.8886274509803922, Recall = 0.14864864864864866\n",
      "Test2 - Accuracy = 0.8886714928585404, Recall = 0.16526138279932545\n",
      "y\n",
      "0    4508\n",
      "1     592\n",
      "Name: count, dtype: int64\n",
      "y\n",
      "0    4518\n",
      "1     593\n",
      "Name: count, dtype: int64\n"
     ]
    }
   ],
   "source": [
    "thr = 0.5\n",
    "\n",
    "y1_pred = trained_model.predict(test1) > thr\n",
    "y2_pred = trained_model.predict(test2) > thr\n",
    "\n",
    "y1_pred_probs = trained_model.predict(test1)\n",
    "y2_pred_probs = trained_model.predict(test2)\n",
    "\n",
    "print(f'Test1 - Accuracy = {accuracy_score(test1.y,y1_pred)}, Recall = {recall_score(test1.y, y1_pred)}')\n",
    "print(f'Test2 - Accuracy = {accuracy_score(test2.y,y2_pred)}, Recall = {recall_score(test2.y, y2_pred)}')\n",
    "\n",
    "print(test1.y.value_counts())\n",
    "print(test2.y.value_counts())"
   ]
  },
  {
   "cell_type": "markdown",
   "id": "d4243c9f-d465-4827-af0d-c162006cf2b7",
   "metadata": {},
   "source": [
    "For both test datasets, we see a much higher accuracy score than recall score, around .9 and 0.15, respectively. Recall measures the ratio of correct class 1 predictions to all true class 1 observations -- a low score such as the ones we see here means that many class 1 observations are predicted as false negatives by the model, indicating 'conservativeness' in the model. However, our threshold is not very high, i.e. our model is not highly conservative. As shown in the value counts of both test datasets, there are about 9 times as many class 0 observations as there are class 1 observations, which makes accuracy a more realistic evaluation metric, since it considers the amount of correctly classified class 0 predictions as well."
   ]
  },
  {
   "cell_type": "markdown",
   "id": "d5e60f38-bdff-4363-8a56-0e2a8948c488",
   "metadata": {},
   "source": [
    "### k)\n",
    "\n",
    "Repeat Part j with a decision threshold of 0.3. Did the accuracy change much? How about recall? Explain why the results changed (or not) in terms of the confusion matrix elements (TPs, TNs, FPs and FNs). \n",
    "\n",
    "**(5 points: 1 point for the calculation, 2 points for the recall explanation, 2 points for the accuracy explanation)**"
   ]
  },
  {
   "cell_type": "code",
   "execution_count": 32,
   "id": "c0ff170f-9b48-4f68-a42c-7ecd936cc568",
   "metadata": {},
   "outputs": [
    {
     "name": "stdout",
     "output_type": "stream",
     "text": [
      "Test1 - Accuracy = 0.8841176470588236, Recall = 0.30067567567567566\n",
      "Test2 - Accuracy = 0.8863236157307768, Recall = 0.2951096121416526\n"
     ]
    }
   ],
   "source": [
    "thr = 0.3\n",
    "\n",
    "y1_pred = trained_model.predict(test1) > thr\n",
    "y2_pred = trained_model.predict(test2) > thr\n",
    "\n",
    "y1_pred_probs = trained_model.predict(test1)\n",
    "y2_pred_probs = trained_model.predict(test2)\n",
    "\n",
    "print(f'Test1 - Accuracy = {accuracy_score(test1.y,y1_pred)}, Recall = {recall_score(test1.y, y1_pred)}')\n",
    "print(f'Test2 - Accuracy = {accuracy_score(test2.y,y2_pred)}, Recall = {recall_score(test2.y, y2_pred)}')"
   ]
  },
  {
   "cell_type": "markdown",
   "id": "3d2e2286-ed59-45bc-94ba-1d38a45480e6",
   "metadata": {},
   "source": [
    "Accuracy stayed about the same, around 0.9, and recall increased to about 0.3 for both test datasets. Since our threshold is lower, the model is more likely to predict an observation as being class 1, so the ratio of true positives to total class 1 observations, true positives + false negatives, increased accordingly. Accuracy stayed about the same -- while the model correctly predicts more class 1 observations, it misses more true negatives, so the true negative count decreases. Since accuracy is the percentage of correctly predicted observations of total observations and of the terms in the numerator, TP and TN, one increased and one decreased, this explains why there was not a drastic change in accuracy."
   ]
  },
  {
   "cell_type": "markdown",
   "id": "a9f20fe3-3588-475b-9f60-b412b9a389b2",
   "metadata": {},
   "source": [
    "## 2) Exploring Variable Interactions (9 points)"
   ]
  },
  {
   "cell_type": "markdown",
   "id": "ea8db71f-37b1-451f-b250-e0d6c9342761",
   "metadata": {},
   "source": [
    "### a)\n",
    "\n",
    "Using the training data and the **statsmodels** library, create and train a logistic regression model that predicts whether the client subscribed to a term deposit or not by using their `education` level and their `age`. \n",
    "\n",
    "**Assume that the effect of age on the probability of client subscription **depends on** the education level of the client.** Print the model summary. **(2 points)**\n",
    "\n",
    "You will use this model to answer all the remaining parts of this question."
   ]
  },
  {
   "cell_type": "code",
   "execution_count": 36,
   "id": "885bb208-33cb-4db7-b81f-d2bd381d7893",
   "metadata": {},
   "outputs": [
    {
     "name": "stdout",
     "output_type": "stream",
     "text": [
      "Optimization terminated successfully.\n",
      "         Current function value: 0.356771\n",
      "         Iterations 7\n"
     ]
    },
    {
     "data": {
      "text/html": [
       "<table class=\"simpletable\">\n",
       "<caption>Logit Regression Results</caption>\n",
       "<tr>\n",
       "  <th>Dep. Variable:</th>           <td>y</td>        <th>  No. Observations:  </th>  <td> 35000</td>  \n",
       "</tr>\n",
       "<tr>\n",
       "  <th>Model:</th>                 <td>Logit</td>      <th>  Df Residuals:      </th>  <td> 34992</td>  \n",
       "</tr>\n",
       "<tr>\n",
       "  <th>Method:</th>                 <td>MLE</td>       <th>  Df Model:          </th>  <td>     7</td>  \n",
       "</tr>\n",
       "<tr>\n",
       "  <th>Date:</th>            <td>Mon, 17 Feb 2025</td> <th>  Pseudo R-squ.:     </th>  <td>0.01288</td> \n",
       "</tr>\n",
       "<tr>\n",
       "  <th>Time:</th>                <td>22:06:10</td>     <th>  Log-Likelihood:    </th> <td> -12487.</td> \n",
       "</tr>\n",
       "<tr>\n",
       "  <th>converged:</th>             <td>True</td>       <th>  LL-Null:           </th> <td> -12650.</td> \n",
       "</tr>\n",
       "<tr>\n",
       "  <th>Covariance Type:</th>     <td>nonrobust</td>    <th>  LLR p-value:       </th> <td>1.897e-66</td>\n",
       "</tr>\n",
       "</table>\n",
       "<table class=\"simpletable\">\n",
       "<tr>\n",
       "               <td></td>                 <th>coef</th>     <th>std err</th>      <th>z</th>      <th>P>|z|</th>  <th>[0.025</th>    <th>0.975]</th>  \n",
       "</tr>\n",
       "<tr>\n",
       "  <th>Intercept</th>                  <td>   -4.6063</td> <td>    0.209</td> <td>  -22.083</td> <td> 0.000</td> <td>   -5.015</td> <td>   -4.197</td>\n",
       "</tr>\n",
       "<tr>\n",
       "  <th>education[T.secondary]</th>     <td>    2.1168</td> <td>    0.231</td> <td>    9.180</td> <td> 0.000</td> <td>    1.665</td> <td>    2.569</td>\n",
       "</tr>\n",
       "<tr>\n",
       "  <th>education[T.tertiary]</th>      <td>    2.8103</td> <td>    0.238</td> <td>   11.832</td> <td> 0.000</td> <td>    2.345</td> <td>    3.276</td>\n",
       "</tr>\n",
       "<tr>\n",
       "  <th>education[T.unknown]</th>       <td>    2.6776</td> <td>    0.359</td> <td>    7.455</td> <td> 0.000</td> <td>    1.974</td> <td>    3.382</td>\n",
       "</tr>\n",
       "<tr>\n",
       "  <th>age</th>                        <td>    0.0462</td> <td>    0.004</td> <td>   11.636</td> <td> 0.000</td> <td>    0.038</td> <td>    0.054</td>\n",
       "</tr>\n",
       "<tr>\n",
       "  <th>education[T.secondary]:age</th> <td>   -0.0371</td> <td>    0.005</td> <td>   -8.063</td> <td> 0.000</td> <td>   -0.046</td> <td>   -0.028</td>\n",
       "</tr>\n",
       "<tr>\n",
       "  <th>education[T.tertiary]:age</th>  <td>   -0.0447</td> <td>    0.005</td> <td>   -9.230</td> <td> 0.000</td> <td>   -0.054</td> <td>   -0.035</td>\n",
       "</tr>\n",
       "<tr>\n",
       "  <th>education[T.unknown]:age</th>   <td>   -0.0443</td> <td>    0.007</td> <td>   -5.957</td> <td> 0.000</td> <td>   -0.059</td> <td>   -0.030</td>\n",
       "</tr>\n",
       "</table>"
      ],
      "text/latex": [
       "\\begin{center}\n",
       "\\begin{tabular}{lclc}\n",
       "\\toprule\n",
       "\\textbf{Dep. Variable:}             &        y         & \\textbf{  No. Observations:  } &    35000    \\\\\n",
       "\\textbf{Model:}                     &      Logit       & \\textbf{  Df Residuals:      } &    34992    \\\\\n",
       "\\textbf{Method:}                    &       MLE        & \\textbf{  Df Model:          } &        7    \\\\\n",
       "\\textbf{Date:}                      & Mon, 17 Feb 2025 & \\textbf{  Pseudo R-squ.:     } &  0.01288    \\\\\n",
       "\\textbf{Time:}                      &     22:06:10     & \\textbf{  Log-Likelihood:    } &   -12487.   \\\\\n",
       "\\textbf{converged:}                 &       True       & \\textbf{  LL-Null:           } &   -12650.   \\\\\n",
       "\\textbf{Covariance Type:}           &    nonrobust     & \\textbf{  LLR p-value:       } & 1.897e-66   \\\\\n",
       "\\bottomrule\n",
       "\\end{tabular}\n",
       "\\begin{tabular}{lcccccc}\n",
       "                                    & \\textbf{coef} & \\textbf{std err} & \\textbf{z} & \\textbf{P$> |$z$|$} & \\textbf{[0.025} & \\textbf{0.975]}  \\\\\n",
       "\\midrule\n",
       "\\textbf{Intercept}                  &      -4.6063  &        0.209     &   -22.083  &         0.000        &       -5.015    &       -4.197     \\\\\n",
       "\\textbf{education[T.secondary]}     &       2.1168  &        0.231     &     9.180  &         0.000        &        1.665    &        2.569     \\\\\n",
       "\\textbf{education[T.tertiary]}      &       2.8103  &        0.238     &    11.832  &         0.000        &        2.345    &        3.276     \\\\\n",
       "\\textbf{education[T.unknown]}       &       2.6776  &        0.359     &     7.455  &         0.000        &        1.974    &        3.382     \\\\\n",
       "\\textbf{age}                        &       0.0462  &        0.004     &    11.636  &         0.000        &        0.038    &        0.054     \\\\\n",
       "\\textbf{education[T.secondary]:age} &      -0.0371  &        0.005     &    -8.063  &         0.000        &       -0.046    &       -0.028     \\\\\n",
       "\\textbf{education[T.tertiary]:age}  &      -0.0447  &        0.005     &    -9.230  &         0.000        &       -0.054    &       -0.035     \\\\\n",
       "\\textbf{education[T.unknown]:age}   &      -0.0443  &        0.007     &    -5.957  &         0.000        &       -0.059    &       -0.030     \\\\\n",
       "\\bottomrule\n",
       "\\end{tabular}\n",
       "%\\caption{Logit Regression Results}\n",
       "\\end{center}"
      ],
      "text/plain": [
       "<class 'statsmodels.iolib.summary.Summary'>\n",
       "\"\"\"\n",
       "                           Logit Regression Results                           \n",
       "==============================================================================\n",
       "Dep. Variable:                      y   No. Observations:                35000\n",
       "Model:                          Logit   Df Residuals:                    34992\n",
       "Method:                           MLE   Df Model:                            7\n",
       "Date:                Mon, 17 Feb 2025   Pseudo R-squ.:                 0.01288\n",
       "Time:                        22:06:10   Log-Likelihood:                -12487.\n",
       "converged:                       True   LL-Null:                       -12650.\n",
       "Covariance Type:            nonrobust   LLR p-value:                 1.897e-66\n",
       "==============================================================================================\n",
       "                                 coef    std err          z      P>|z|      [0.025      0.975]\n",
       "----------------------------------------------------------------------------------------------\n",
       "Intercept                     -4.6063      0.209    -22.083      0.000      -5.015      -4.197\n",
       "education[T.secondary]         2.1168      0.231      9.180      0.000       1.665       2.569\n",
       "education[T.tertiary]          2.8103      0.238     11.832      0.000       2.345       3.276\n",
       "education[T.unknown]           2.6776      0.359      7.455      0.000       1.974       3.382\n",
       "age                            0.0462      0.004     11.636      0.000       0.038       0.054\n",
       "education[T.secondary]:age    -0.0371      0.005     -8.063      0.000      -0.046      -0.028\n",
       "education[T.tertiary]:age     -0.0447      0.005     -9.230      0.000      -0.054      -0.035\n",
       "education[T.unknown]:age      -0.0443      0.007     -5.957      0.000      -0.059      -0.030\n",
       "==============================================================================================\n",
       "\"\"\""
      ]
     },
     "execution_count": 36,
     "metadata": {},
     "output_type": "execute_result"
    }
   ],
   "source": [
    "model = smf.logit('y~education*age', data=train).fit()\n",
    "model.summary()"
   ]
  },
  {
   "cell_type": "markdown",
   "id": "c28c3743-22d1-402f-9597-fe978eec7526",
   "metadata": {},
   "source": [
    "### b)\n",
    "\n",
    "Which education level has the highest percentage increase in odds of the client subscribing with a unit increase in their age? Justify your answer by comparing the percentage increases for all education levels in the data. **(3 points)**"
   ]
  },
  {
   "cell_type": "code",
   "execution_count": 38,
   "id": "ba4bac43-7d93-4953-9f35-f65aabd007ba",
   "metadata": {},
   "outputs": [
    {
     "name": "stdout",
     "output_type": "stream",
     "text": [
      "Secondary: 0.009058022202870664\n",
      " Tertiary: 0.0014824258262073897\n",
      " Primary: 0.04723644883804101\n",
      " Unknown: 0.001830309809183417\n"
     ]
    }
   ],
   "source": [
    "#print(train.education.value_counts())\n",
    "\n",
    "print(f'Secondary: {np.exp(model.params['age'] + model.params['education[T.secondary]:age']) -1}')\n",
    "print(f' Tertiary: {np.exp(model.params['age'] + model.params['education[T.tertiary]:age']) -1}')\n",
    "print(f' Primary: {np.exp(model.params['age']) -1}') # primary\n",
    "print(f' Unknown: {np.exp(model.params['age'] + model.params['education[T.unknown]:age']) -1}')"
   ]
  },
  {
   "cell_type": "markdown",
   "id": "d37bf6fd-e898-41e9-b0bd-88104869b19c",
   "metadata": {},
   "source": [
    "Primary education level has the highest increase in odds of client subscription per unit increase in age - about 5%."
   ]
  },
  {
   "cell_type": "markdown",
   "id": "a9981d87-110c-4aff-bbf1-4d40a814789e",
   "metadata": {},
   "source": [
    "### c)\n",
    "\n",
    "What is the maximum age of a client with `tertiary` education that has a predicted subscription probability of 15% or lower? **(4 points)**"
   ]
  },
  {
   "cell_type": "code",
   "execution_count": 41,
   "id": "3e3aa7bd-38bc-4a20-9d78-1b68f84cca42",
   "metadata": {},
   "outputs": [
    {
     "data": {
      "text/plain": [
       "41.415846877002714"
      ]
     },
     "execution_count": 41,
     "metadata": {},
     "output_type": "execute_result"
    }
   ],
   "source": [
    "train.loc[model.predict(train) < .15, 'age'].max()\n",
    "\n",
    "#prob = model.params['Intercept'] + model.params['education[T.tertiary]'] + age*(model.params['age'] + model.params['education[T.tertiary]:age'])\n",
    "(np.log(0.15/0.85) - (model.params['Intercept'] + model.params['education[T.tertiary]'])) / (model.params['age'] + model.params['education[T.tertiary]:age'])"
   ]
  },
  {
   "cell_type": "markdown",
   "id": "d86e3c09-2af4-43c7-9efb-a1c86eba56de",
   "metadata": {},
   "source": [
    "## 3) Model Development and Evaluation (26 points)"
   ]
  },
  {
   "cell_type": "markdown",
   "id": "2d1a1ca5-35bf-4bd6-a610-3ea5fc7f89e0",
   "metadata": {},
   "source": [
    "### a)\n",
    "\n",
    "Using the training data and the **statsmodels** library, create and train a logistic regression model that predicts whether the client subscribed to a term deposit or not. The predictors are `age`, `education`, `day` and `month`. The model is required to have:\n",
    "\n",
    "- A minimum of 75.0% accuracy for all three datasets (training and two test datasets). **(4 points)**\n",
    "- A minimum of 50.0% recall for all three datasets. **(4 points)**\n",
    "\n",
    "Print the model summary. **(1 point)** For all three datasets, print the accuracy scores, recall scores and confusion matrices. **(2 points)**\n",
    "\n",
    "**Notes:**\n",
    "\n",
    "1) **You cannot use `duration` as a predictor.** (The reason is explained in Introduction.) **Any solution that uses duration as part of the model will not receive any credit for the entire question.**\n",
    "2) You may need to explore some interactions and transformations.\n",
    "3) You are free to choose the decision threshold as you wish. **However, you are required to use the same threshold for all three datasets for credit.**\n",
    "4) Your scores need to meet the minimum requirements without any rounding off. (For example, a recall of 49.9% is not considered correct.)\n",
    "\n",
    "You will use this model (and threshold, unless stated otherwise) to answer all the remaining parts of this question."
   ]
  },
  {
   "cell_type": "code",
   "execution_count": 44,
   "id": "147b3e75-f410-4004-b540-ab0cf04cc72a",
   "metadata": {},
   "outputs": [
    {
     "name": "stdout",
     "output_type": "stream",
     "text": [
      "Optimization terminated successfully.\n",
      "         Current function value: 0.322666\n",
      "         Iterations 7\n"
     ]
    },
    {
     "data": {
      "text/html": [
       "<table class=\"simpletable\">\n",
       "<caption>Logit Regression Results</caption>\n",
       "<tr>\n",
       "  <th>Dep. Variable:</th>           <td>y</td>        <th>  No. Observations:  </th>  <td> 35000</td> \n",
       "</tr>\n",
       "<tr>\n",
       "  <th>Model:</th>                 <td>Logit</td>      <th>  Df Residuals:      </th>  <td> 34968</td> \n",
       "</tr>\n",
       "<tr>\n",
       "  <th>Method:</th>                 <td>MLE</td>       <th>  Df Model:          </th>  <td>    31</td> \n",
       "</tr>\n",
       "<tr>\n",
       "  <th>Date:</th>            <td>Mon, 17 Feb 2025</td> <th>  Pseudo R-squ.:     </th>  <td>0.1072</td> \n",
       "</tr>\n",
       "<tr>\n",
       "  <th>Time:</th>                <td>22:06:11</td>     <th>  Log-Likelihood:    </th> <td> -11293.</td>\n",
       "</tr>\n",
       "<tr>\n",
       "  <th>converged:</th>             <td>True</td>       <th>  LL-Null:           </th> <td> -12650.</td>\n",
       "</tr>\n",
       "<tr>\n",
       "  <th>Covariance Type:</th>     <td>nonrobust</td>    <th>  LLR p-value:       </th>  <td> 0.000</td> \n",
       "</tr>\n",
       "</table>\n",
       "<table class=\"simpletable\">\n",
       "<tr>\n",
       "               <td></td>                 <th>coef</th>     <th>std err</th>      <th>z</th>      <th>P>|z|</th>  <th>[0.025</th>    <th>0.975]</th>  \n",
       "</tr>\n",
       "<tr>\n",
       "  <th>Intercept</th>                  <td>    0.1446</td> <td>    0.347</td> <td>    0.417</td> <td> 0.677</td> <td>   -0.536</td> <td>    0.825</td>\n",
       "</tr>\n",
       "<tr>\n",
       "  <th>education[T.secondary]</th>     <td>    0.0492</td> <td>    0.217</td> <td>    0.227</td> <td> 0.821</td> <td>   -0.376</td> <td>    0.474</td>\n",
       "</tr>\n",
       "<tr>\n",
       "  <th>education[T.tertiary]</th>      <td>    0.5063</td> <td>    0.225</td> <td>    2.254</td> <td> 0.024</td> <td>    0.066</td> <td>    0.947</td>\n",
       "</tr>\n",
       "<tr>\n",
       "  <th>education[T.unknown]</th>       <td>    0.9275</td> <td>    0.327</td> <td>    2.833</td> <td> 0.005</td> <td>    0.286</td> <td>    1.569</td>\n",
       "</tr>\n",
       "<tr>\n",
       "  <th>month[T.aug]</th>               <td>    1.1418</td> <td>    0.185</td> <td>    6.159</td> <td> 0.000</td> <td>    0.778</td> <td>    1.505</td>\n",
       "</tr>\n",
       "<tr>\n",
       "  <th>month[T.dec]</th>               <td>    2.2415</td> <td>    0.340</td> <td>    6.601</td> <td> 0.000</td> <td>    1.576</td> <td>    2.907</td>\n",
       "</tr>\n",
       "<tr>\n",
       "  <th>month[T.feb]</th>               <td>   -0.1687</td> <td>    0.187</td> <td>   -0.904</td> <td> 0.366</td> <td>   -0.534</td> <td>    0.197</td>\n",
       "</tr>\n",
       "<tr>\n",
       "  <th>month[T.jan]</th>               <td>    4.4757</td> <td>    0.442</td> <td>   10.130</td> <td> 0.000</td> <td>    3.610</td> <td>    5.342</td>\n",
       "</tr>\n",
       "<tr>\n",
       "  <th>month[T.jul]</th>               <td>    0.5553</td> <td>    0.190</td> <td>    2.929</td> <td> 0.003</td> <td>    0.184</td> <td>    0.927</td>\n",
       "</tr>\n",
       "<tr>\n",
       "  <th>month[T.jun]</th>               <td>    0.4512</td> <td>    0.181</td> <td>    2.491</td> <td> 0.013</td> <td>    0.096</td> <td>    0.806</td>\n",
       "</tr>\n",
       "<tr>\n",
       "  <th>month[T.mar]</th>               <td>    2.5508</td> <td>    0.250</td> <td>   10.217</td> <td> 0.000</td> <td>    2.061</td> <td>    3.040</td>\n",
       "</tr>\n",
       "<tr>\n",
       "  <th>month[T.may]</th>               <td>   -0.1391</td> <td>    0.180</td> <td>   -0.774</td> <td> 0.439</td> <td>   -0.492</td> <td>    0.213</td>\n",
       "</tr>\n",
       "<tr>\n",
       "  <th>month[T.nov]</th>               <td>    2.6127</td> <td>    0.277</td> <td>    9.430</td> <td> 0.000</td> <td>    2.070</td> <td>    3.156</td>\n",
       "</tr>\n",
       "<tr>\n",
       "  <th>month[T.oct]</th>               <td>    0.9884</td> <td>    0.274</td> <td>    3.612</td> <td> 0.000</td> <td>    0.452</td> <td>    1.525</td>\n",
       "</tr>\n",
       "<tr>\n",
       "  <th>month[T.sep]</th>               <td>    1.8823</td> <td>    0.235</td> <td>    7.994</td> <td> 0.000</td> <td>    1.421</td> <td>    2.344</td>\n",
       "</tr>\n",
       "<tr>\n",
       "  <th>age</th>                        <td>   -0.1386</td> <td>    0.011</td> <td>  -12.472</td> <td> 0.000</td> <td>   -0.160</td> <td>   -0.117</td>\n",
       "</tr>\n",
       "<tr>\n",
       "  <th>age:education[T.secondary]</th> <td>    0.0071</td> <td>    0.005</td> <td>    1.554</td> <td> 0.120</td> <td>   -0.002</td> <td>    0.016</td>\n",
       "</tr>\n",
       "<tr>\n",
       "  <th>age:education[T.tertiary]</th>  <td>    0.0025</td> <td>    0.005</td> <td>    0.529</td> <td> 0.597</td> <td>   -0.007</td> <td>    0.012</td>\n",
       "</tr>\n",
       "<tr>\n",
       "  <th>age:education[T.unknown]</th>   <td>   -0.0112</td> <td>    0.007</td> <td>   -1.626</td> <td> 0.104</td> <td>   -0.025</td> <td>    0.002</td>\n",
       "</tr>\n",
       "<tr>\n",
       "  <th>day</th>                        <td>    0.0565</td> <td>    0.008</td> <td>    7.249</td> <td> 0.000</td> <td>    0.041</td> <td>    0.072</td>\n",
       "</tr>\n",
       "<tr>\n",
       "  <th>day:month[T.aug]</th>           <td>   -0.1109</td> <td>    0.010</td> <td>  -11.160</td> <td> 0.000</td> <td>   -0.130</td> <td>   -0.091</td>\n",
       "</tr>\n",
       "<tr>\n",
       "  <th>day:month[T.dec]</th>           <td>   -0.0631</td> <td>    0.020</td> <td>   -3.170</td> <td> 0.002</td> <td>   -0.102</td> <td>   -0.024</td>\n",
       "</tr>\n",
       "<tr>\n",
       "  <th>day:month[T.feb]</th>           <td>    0.0631</td> <td>    0.012</td> <td>    5.223</td> <td> 0.000</td> <td>    0.039</td> <td>    0.087</td>\n",
       "</tr>\n",
       "<tr>\n",
       "  <th>day:month[T.jan]</th>           <td>   -0.2228</td> <td>    0.018</td> <td>  -12.422</td> <td> 0.000</td> <td>   -0.258</td> <td>   -0.188</td>\n",
       "</tr>\n",
       "<tr>\n",
       "  <th>day:month[T.jul]</th>           <td>   -0.0797</td> <td>    0.010</td> <td>   -8.359</td> <td> 0.000</td> <td>   -0.098</td> <td>   -0.061</td>\n",
       "</tr>\n",
       "<tr>\n",
       "  <th>day:month[T.jun]</th>           <td>   -0.0701</td> <td>    0.010</td> <td>   -6.736</td> <td> 0.000</td> <td>   -0.090</td> <td>   -0.050</td>\n",
       "</tr>\n",
       "<tr>\n",
       "  <th>day:month[T.mar]</th>           <td>   -0.0756</td> <td>    0.014</td> <td>   -5.475</td> <td> 0.000</td> <td>   -0.103</td> <td>   -0.049</td>\n",
       "</tr>\n",
       "<tr>\n",
       "  <th>day:month[T.may]</th>           <td>   -0.0575</td> <td>    0.009</td> <td>   -6.194</td> <td> 0.000</td> <td>   -0.076</td> <td>   -0.039</td>\n",
       "</tr>\n",
       "<tr>\n",
       "  <th>day:month[T.nov]</th>           <td>   -0.1938</td> <td>    0.015</td> <td>  -12.746</td> <td> 0.000</td> <td>   -0.224</td> <td>   -0.164</td>\n",
       "</tr>\n",
       "<tr>\n",
       "  <th>day:month[T.oct]</th>           <td>   -0.0029</td> <td>    0.014</td> <td>   -0.212</td> <td> 0.832</td> <td>   -0.030</td> <td>    0.024</td>\n",
       "</tr>\n",
       "<tr>\n",
       "  <th>day:month[T.sep]</th>           <td>   -0.0411</td> <td>    0.014</td> <td>   -2.876</td> <td> 0.004</td> <td>   -0.069</td> <td>   -0.013</td>\n",
       "</tr>\n",
       "<tr>\n",
       "  <th>I(age ** 2)</th>                <td>    0.0015</td> <td>    0.000</td> <td>   14.878</td> <td> 0.000</td> <td>    0.001</td> <td>    0.002</td>\n",
       "</tr>\n",
       "</table>"
      ],
      "text/latex": [
       "\\begin{center}\n",
       "\\begin{tabular}{lclc}\n",
       "\\toprule\n",
       "\\textbf{Dep. Variable:}             &        y         & \\textbf{  No. Observations:  } &    35000    \\\\\n",
       "\\textbf{Model:}                     &      Logit       & \\textbf{  Df Residuals:      } &    34968    \\\\\n",
       "\\textbf{Method:}                    &       MLE        & \\textbf{  Df Model:          } &       31    \\\\\n",
       "\\textbf{Date:}                      & Mon, 17 Feb 2025 & \\textbf{  Pseudo R-squ.:     } &   0.1072    \\\\\n",
       "\\textbf{Time:}                      &     22:06:11     & \\textbf{  Log-Likelihood:    } &   -11293.   \\\\\n",
       "\\textbf{converged:}                 &       True       & \\textbf{  LL-Null:           } &   -12650.   \\\\\n",
       "\\textbf{Covariance Type:}           &    nonrobust     & \\textbf{  LLR p-value:       } &    0.000    \\\\\n",
       "\\bottomrule\n",
       "\\end{tabular}\n",
       "\\begin{tabular}{lcccccc}\n",
       "                                    & \\textbf{coef} & \\textbf{std err} & \\textbf{z} & \\textbf{P$> |$z$|$} & \\textbf{[0.025} & \\textbf{0.975]}  \\\\\n",
       "\\midrule\n",
       "\\textbf{Intercept}                  &       0.1446  &        0.347     &     0.417  &         0.677        &       -0.536    &        0.825     \\\\\n",
       "\\textbf{education[T.secondary]}     &       0.0492  &        0.217     &     0.227  &         0.821        &       -0.376    &        0.474     \\\\\n",
       "\\textbf{education[T.tertiary]}      &       0.5063  &        0.225     &     2.254  &         0.024        &        0.066    &        0.947     \\\\\n",
       "\\textbf{education[T.unknown]}       &       0.9275  &        0.327     &     2.833  &         0.005        &        0.286    &        1.569     \\\\\n",
       "\\textbf{month[T.aug]}               &       1.1418  &        0.185     &     6.159  &         0.000        &        0.778    &        1.505     \\\\\n",
       "\\textbf{month[T.dec]}               &       2.2415  &        0.340     &     6.601  &         0.000        &        1.576    &        2.907     \\\\\n",
       "\\textbf{month[T.feb]}               &      -0.1687  &        0.187     &    -0.904  &         0.366        &       -0.534    &        0.197     \\\\\n",
       "\\textbf{month[T.jan]}               &       4.4757  &        0.442     &    10.130  &         0.000        &        3.610    &        5.342     \\\\\n",
       "\\textbf{month[T.jul]}               &       0.5553  &        0.190     &     2.929  &         0.003        &        0.184    &        0.927     \\\\\n",
       "\\textbf{month[T.jun]}               &       0.4512  &        0.181     &     2.491  &         0.013        &        0.096    &        0.806     \\\\\n",
       "\\textbf{month[T.mar]}               &       2.5508  &        0.250     &    10.217  &         0.000        &        2.061    &        3.040     \\\\\n",
       "\\textbf{month[T.may]}               &      -0.1391  &        0.180     &    -0.774  &         0.439        &       -0.492    &        0.213     \\\\\n",
       "\\textbf{month[T.nov]}               &       2.6127  &        0.277     &     9.430  &         0.000        &        2.070    &        3.156     \\\\\n",
       "\\textbf{month[T.oct]}               &       0.9884  &        0.274     &     3.612  &         0.000        &        0.452    &        1.525     \\\\\n",
       "\\textbf{month[T.sep]}               &       1.8823  &        0.235     &     7.994  &         0.000        &        1.421    &        2.344     \\\\\n",
       "\\textbf{age}                        &      -0.1386  &        0.011     &   -12.472  &         0.000        &       -0.160    &       -0.117     \\\\\n",
       "\\textbf{age:education[T.secondary]} &       0.0071  &        0.005     &     1.554  &         0.120        &       -0.002    &        0.016     \\\\\n",
       "\\textbf{age:education[T.tertiary]}  &       0.0025  &        0.005     &     0.529  &         0.597        &       -0.007    &        0.012     \\\\\n",
       "\\textbf{age:education[T.unknown]}   &      -0.0112  &        0.007     &    -1.626  &         0.104        &       -0.025    &        0.002     \\\\\n",
       "\\textbf{day}                        &       0.0565  &        0.008     &     7.249  &         0.000        &        0.041    &        0.072     \\\\\n",
       "\\textbf{day:month[T.aug]}           &      -0.1109  &        0.010     &   -11.160  &         0.000        &       -0.130    &       -0.091     \\\\\n",
       "\\textbf{day:month[T.dec]}           &      -0.0631  &        0.020     &    -3.170  &         0.002        &       -0.102    &       -0.024     \\\\\n",
       "\\textbf{day:month[T.feb]}           &       0.0631  &        0.012     &     5.223  &         0.000        &        0.039    &        0.087     \\\\\n",
       "\\textbf{day:month[T.jan]}           &      -0.2228  &        0.018     &   -12.422  &         0.000        &       -0.258    &       -0.188     \\\\\n",
       "\\textbf{day:month[T.jul]}           &      -0.0797  &        0.010     &    -8.359  &         0.000        &       -0.098    &       -0.061     \\\\\n",
       "\\textbf{day:month[T.jun]}           &      -0.0701  &        0.010     &    -6.736  &         0.000        &       -0.090    &       -0.050     \\\\\n",
       "\\textbf{day:month[T.mar]}           &      -0.0756  &        0.014     &    -5.475  &         0.000        &       -0.103    &       -0.049     \\\\\n",
       "\\textbf{day:month[T.may]}           &      -0.0575  &        0.009     &    -6.194  &         0.000        &       -0.076    &       -0.039     \\\\\n",
       "\\textbf{day:month[T.nov]}           &      -0.1938  &        0.015     &   -12.746  &         0.000        &       -0.224    &       -0.164     \\\\\n",
       "\\textbf{day:month[T.oct]}           &      -0.0029  &        0.014     &    -0.212  &         0.832        &       -0.030    &        0.024     \\\\\n",
       "\\textbf{day:month[T.sep]}           &      -0.0411  &        0.014     &    -2.876  &         0.004        &       -0.069    &       -0.013     \\\\\n",
       "\\textbf{I(age ** 2)}                &       0.0015  &        0.000     &    14.878  &         0.000        &        0.001    &        0.002     \\\\\n",
       "\\bottomrule\n",
       "\\end{tabular}\n",
       "%\\caption{Logit Regression Results}\n",
       "\\end{center}"
      ],
      "text/plain": [
       "<class 'statsmodels.iolib.summary.Summary'>\n",
       "\"\"\"\n",
       "                           Logit Regression Results                           \n",
       "==============================================================================\n",
       "Dep. Variable:                      y   No. Observations:                35000\n",
       "Model:                          Logit   Df Residuals:                    34968\n",
       "Method:                           MLE   Df Model:                           31\n",
       "Date:                Mon, 17 Feb 2025   Pseudo R-squ.:                  0.1072\n",
       "Time:                        22:06:11   Log-Likelihood:                -11293.\n",
       "converged:                       True   LL-Null:                       -12650.\n",
       "Covariance Type:            nonrobust   LLR p-value:                     0.000\n",
       "==============================================================================================\n",
       "                                 coef    std err          z      P>|z|      [0.025      0.975]\n",
       "----------------------------------------------------------------------------------------------\n",
       "Intercept                      0.1446      0.347      0.417      0.677      -0.536       0.825\n",
       "education[T.secondary]         0.0492      0.217      0.227      0.821      -0.376       0.474\n",
       "education[T.tertiary]          0.5063      0.225      2.254      0.024       0.066       0.947\n",
       "education[T.unknown]           0.9275      0.327      2.833      0.005       0.286       1.569\n",
       "month[T.aug]                   1.1418      0.185      6.159      0.000       0.778       1.505\n",
       "month[T.dec]                   2.2415      0.340      6.601      0.000       1.576       2.907\n",
       "month[T.feb]                  -0.1687      0.187     -0.904      0.366      -0.534       0.197\n",
       "month[T.jan]                   4.4757      0.442     10.130      0.000       3.610       5.342\n",
       "month[T.jul]                   0.5553      0.190      2.929      0.003       0.184       0.927\n",
       "month[T.jun]                   0.4512      0.181      2.491      0.013       0.096       0.806\n",
       "month[T.mar]                   2.5508      0.250     10.217      0.000       2.061       3.040\n",
       "month[T.may]                  -0.1391      0.180     -0.774      0.439      -0.492       0.213\n",
       "month[T.nov]                   2.6127      0.277      9.430      0.000       2.070       3.156\n",
       "month[T.oct]                   0.9884      0.274      3.612      0.000       0.452       1.525\n",
       "month[T.sep]                   1.8823      0.235      7.994      0.000       1.421       2.344\n",
       "age                           -0.1386      0.011    -12.472      0.000      -0.160      -0.117\n",
       "age:education[T.secondary]     0.0071      0.005      1.554      0.120      -0.002       0.016\n",
       "age:education[T.tertiary]      0.0025      0.005      0.529      0.597      -0.007       0.012\n",
       "age:education[T.unknown]      -0.0112      0.007     -1.626      0.104      -0.025       0.002\n",
       "day                            0.0565      0.008      7.249      0.000       0.041       0.072\n",
       "day:month[T.aug]              -0.1109      0.010    -11.160      0.000      -0.130      -0.091\n",
       "day:month[T.dec]              -0.0631      0.020     -3.170      0.002      -0.102      -0.024\n",
       "day:month[T.feb]               0.0631      0.012      5.223      0.000       0.039       0.087\n",
       "day:month[T.jan]              -0.2228      0.018    -12.422      0.000      -0.258      -0.188\n",
       "day:month[T.jul]              -0.0797      0.010     -8.359      0.000      -0.098      -0.061\n",
       "day:month[T.jun]              -0.0701      0.010     -6.736      0.000      -0.090      -0.050\n",
       "day:month[T.mar]              -0.0756      0.014     -5.475      0.000      -0.103      -0.049\n",
       "day:month[T.may]              -0.0575      0.009     -6.194      0.000      -0.076      -0.039\n",
       "day:month[T.nov]              -0.1938      0.015    -12.746      0.000      -0.224      -0.164\n",
       "day:month[T.oct]              -0.0029      0.014     -0.212      0.832      -0.030       0.024\n",
       "day:month[T.sep]              -0.0411      0.014     -2.876      0.004      -0.069      -0.013\n",
       "I(age ** 2)                    0.0015      0.000     14.878      0.000       0.001       0.002\n",
       "==============================================================================================\n",
       "\"\"\""
      ]
     },
     "execution_count": 44,
     "metadata": {},
     "output_type": "execute_result"
    }
   ],
   "source": [
    "model = smf.logit('y~age*education + day*month + I(age**2)', data=train).fit()\n",
    "model.summary()"
   ]
  },
  {
   "cell_type": "code",
   "execution_count": 45,
   "id": "10c55aa2-9363-4a85-a8ea-f3ee0522f5e0",
   "metadata": {},
   "outputs": [
    {
     "name": "stdout",
     "output_type": "stream",
     "text": [
      "Accuracy and recall scores:\n",
      "Train - Accuracy = 0.7709714285714285, Recall = 0.5319200779727096\n",
      "Test1 - Accuracy = 0.7731372549019608, Recall = 0.5067567567567568\n",
      "Test2 - Accuracy = 0.7720602621796127, Recall = 0.5581787521079258\n",
      "Confusion matrices:\n",
      "Train\n",
      "[[24801  6095]\n",
      " [ 1921  2183]]\n",
      "Test1\n",
      "[[3643  865]\n",
      " [ 292  300]]\n",
      "Test2\n",
      "[[3615  903]\n",
      " [ 262  331]]\n"
     ]
    }
   ],
   "source": [
    "thr = 0.122\n",
    "\n",
    "ytrain_pred = model.predict(train) > thr\n",
    "y1_pred = model.predict(test1) > thr\n",
    "y2_pred = model.predict(test2) > thr\n",
    "\n",
    "ytrain_pred_probs = model.predict(train)\n",
    "y1_pred_probs = model.predict(test1)\n",
    "y2_pred_probs = model.predict(test2)\n",
    "\n",
    "print(f'Accuracy and recall scores:')\n",
    "\n",
    "print(f'Train - Accuracy = {accuracy_score(train.y, ytrain_pred)}, Recall = {recall_score(train.y, ytrain_pred)}')\n",
    "print(f'Test1 - Accuracy = {accuracy_score(test1.y,y1_pred)}, Recall = {recall_score(test1.y, y1_pred)}')\n",
    "print(f'Test2 - Accuracy = {accuracy_score(test2.y,y2_pred)}, Recall = {recall_score(test2.y, y2_pred)}')\n",
    "\n",
    "\n",
    "print(f'Confusion matrices:')\n",
    "print('Train')\n",
    "print(confusion_matrix(train.y, ytrain_pred))\n",
    "print('Test1')\n",
    "cm1 = confusion_matrix(test1.y, y1_pred)\n",
    "print(cm1)\n",
    "print('Test2')\n",
    "cm2 = confusion_matrix(test2.y, y2_pred)\n",
    "print(cm2)"
   ]
  },
  {
   "cell_type": "markdown",
   "id": "81c099ab-bb65-49ca-9538-c89142cda412",
   "metadata": {},
   "source": [
    "### b)\n",
    "\n",
    "What is the probability that the model will return a larger probability output for a client who subscribes compared to a client who does not? **You need to justify your answer for credit.** **(3 points)**"
   ]
  },
  {
   "cell_type": "code",
   "execution_count": 47,
   "id": "3042b1f1-573a-4183-a324-d03c7a371773",
   "metadata": {},
   "outputs": [
    {
     "name": "stdout",
     "output_type": "stream",
     "text": [
      "AUC expresses the probability that the model returns a larger output for a class 1 observation than a class 0 observation.\n"
     ]
    },
    {
     "data": {
      "text/plain": [
       "71.51520612634425"
      ]
     },
     "execution_count": 47,
     "metadata": {},
     "output_type": "execute_result"
    }
   ],
   "source": [
    "print('AUC expresses the probability that the model returns a larger output for a class 1 observation than a class 0 observation.')\n",
    "\n",
    "fpr, tpr, thres = roc_curve(train.y, ytrain_pred_probs)\n",
    "auc(fpr, tpr)*100"
   ]
  },
  {
   "cell_type": "markdown",
   "id": "b04b8826-1dec-4159-beec-c9264ea7f633",
   "metadata": {},
   "source": [
    "### c)\n",
    "\n",
    "Project all your prediction results for both **test** datasets to real-life profits. Assume that:\n",
    "\n",
    "- Only the clients who are predicted to subscribe are called.\n",
    "- A client who is called and subscribes returns a profit of \\$100.\n",
    "- A client who is called and does not subscribe returns a loss of \\$10.\n",
    "\n",
    "What is the net profit of the test results? You need to return one final number. **(3 points)** Note that the confusion matrices printed in Part a can be helpful."
   ]
  },
  {
   "cell_type": "code",
   "execution_count": 49,
   "id": "070bd5d2-4c13-45ac-8efe-bd467bcf33b4",
   "metadata": {},
   "outputs": [
    {
     "data": {
      "text/plain": [
       "45420"
      ]
     },
     "execution_count": 49,
     "metadata": {},
     "output_type": "execute_result"
    }
   ],
   "source": [
    "# FP = cm[0,1], TP = cm[1,1], FN = cm[1,0], TN = cm[1,1]\n",
    "\n",
    "100*(cm1[1,1] + cm2[1,1]) - 10*(cm1[0,1] + cm2[0,1])"
   ]
  },
  {
   "cell_type": "markdown",
   "id": "059210d7-f0d3-4850-a258-30aa2920f9c2",
   "metadata": {},
   "source": [
    "### d)\n",
    "\n",
    "Using the same assumptions in Part c, find the threshold that would maximize the net profit. You need to use the training data this time.\n",
    "\n",
    "This can be the most challenging part of this assignment. Here are some suggestions:\n",
    "\n",
    "- You do not need to calculate the results for every possible threshold. You should already have some metrics calculated for a large array of thresholds in Part b.\n",
    "- Use those metrics and the proportion of Class 1 observations in the training dataset to find the net profit for all thresholds.\n",
    "- Find the index of the highest profit and use it to find the best threshold. You should also have a threshold array from Part b.\n",
    "\n",
    "**(5 points)**"
   ]
  },
  {
   "cell_type": "code",
   "execution_count": 119,
   "id": "89a9c57d-f2b7-4546-a62f-b0f4c4b87a2b",
   "metadata": {},
   "outputs": [
    {
     "name": "stdout",
     "output_type": "stream",
     "text": [
      "0.10084795861336832\n",
      "9984 9984 9984\n",
      "Total Positives: 4104, Total Negatives: 30896\n",
      "FPR shape: (9984,), TPR shape: (9984,), Thresholds shape: (9984,)\n",
      "First 5 profits: [ 0.         -0.00028571  0.00257143  0.00228571  0.01371429  0.01342857\n",
      "  0.022       0.02142857  0.03        0.02885714  0.03171429  0.03114286\n",
      "  0.03971429  0.03942857  0.04228571  0.042       0.04485714  0.04428571\n",
      "  0.05        0.04857143  0.05142857  0.05085714  0.068       0.07057143\n",
      "  0.06971429  0.07542857  0.07514286  0.078       0.07742857  0.08028571]\n"
     ]
    }
   ],
   "source": [
    "# true pos and true neg\n",
    "total_pos = sum(train.y)\n",
    "total_neg = len(train.y) - total_pos\n",
    "\n",
    "fpr, tpr, thres = roc_curve(train.y, ytrain_pred_probs)\n",
    "\n",
    "profits = (100*tpr*total_pos/len(train.y)) - (10*fpr*total_neg/len(train.y))\n",
    "max_idx = np.argmax(profits)\n",
    "max_thres = thres[max_idx]\n",
    "print(max_thres)\n",
    "\n",
    "max_idx\n",
    "x = fpr[max_idx]\n",
    "y = tpr[max_idx]\n",
    "\n",
    "len(profits)\n",
    "#len(train.y)\n",
    "#len(fpr)\n",
    "\n",
    "total_pos + total_neg\n",
    "\n",
    "print(len(fpr), len(tpr), len(thres))\n",
    "\n",
    "print(f\"Total Positives: {total_pos}, Total Negatives: {total_neg}\")\n",
    "print(f\"FPR shape: {fpr.shape}, TPR shape: {tpr.shape}, Thresholds shape: {thres.shape}\")\n",
    "print(f\"First 5 profits: {profits[:30]}\")"
   ]
  },
  {
   "cell_type": "markdown",
   "id": "e06264ee-54d4-41ad-8438-e8ae877b8cfd",
   "metadata": {},
   "source": [
    "### e)\n",
    "\n",
    "Using the new threshold you found in Part d, calculate the net profit for the test datasets. You should see a better profit. Note that you need to reprint some test results for this. **(4 points)**"
   ]
  },
  {
   "cell_type": "code",
   "execution_count": 86,
   "id": "161aaae1-a145-4bfe-8629-6c56d43ade0b",
   "metadata": {},
   "outputs": [
    {
     "data": {
      "text/plain": [
       "49380"
      ]
     },
     "execution_count": 86,
     "metadata": {},
     "output_type": "execute_result"
    }
   ],
   "source": [
    "thr = max_thres\n",
    "\n",
    "\n",
    "y1_pred = model.predict(test1) > thr\n",
    "y2_pred = model.predict(test2) > thr\n",
    "\n",
    "\n",
    "cm1 = confusion_matrix(test1.y, y1_pred)\n",
    "cm2 = confusion_matrix(test2.y, y2_pred)\n",
    "\n",
    "\n",
    "100*(cm1[1,1] + cm2[1,1]) - 10*(cm1[0,1] + cm2[0,1])"
   ]
  },
  {
   "cell_type": "markdown",
   "id": "1d4902a5-b209-4356-9bc0-a3b05aa4ce55",
   "metadata": {},
   "source": [
    "## 4) Data Visualization with Classification Results (6 points)"
   ]
  },
  {
   "cell_type": "markdown",
   "id": "43d04293-ee8c-4dd8-9f5f-43ef5e1660f3",
   "metadata": {},
   "source": [
    "### a)\n",
    "\n",
    "Plot the Receiver Operating Characteristics (ROC) curve for the model you trained in Question 3. Mark the point that corresponds to the decision threshold you found in Part 3d. (You can use a red solid point or any shape/color you want, as long as it is clearly marked.) Make sure you have the axis labels and the x=y line for comparison. **(2 points)**"
   ]
  },
  {
   "cell_type": "code",
   "execution_count": 90,
   "id": "e604229c-656e-4848-b6c2-61856677460a",
   "metadata": {},
   "outputs": [
    {
     "data": {
      "image/png": "[encoded data removed]",
      "text/plain": [
       "<Figure size 800x800 with 1 Axes>"
      ]
     },
     "metadata": {},
     "output_type": "display_data"
    }
   ],
   "source": [
    "# x,y for profit maximizing threshold calculated in 3d\n",
    "\n",
    "\n",
    "plt.figure(figsize=(8,8))\n",
    "plt.title('ROC Curve')\n",
    "plt.plot(fpr, tpr, linewidth=2) # creates ROC curve\n",
    "plt.plot([0, 1], [0, 1], 'k--')\n",
    "plt.axis([-0.005, 1, 0, 1.005])\n",
    "plt.xticks(np.arange(0,1, 0.05), rotation=90)\n",
    "plt.xlabel(\"False Positive Rate\")\n",
    "plt.ylabel(\"True Positive Rate (Recall)\")        # pasted from 4.6.2 in python repo\n",
    "plt.plot(x,y,'o',color='red', label = \"Decision threshold probability\")\n",
    "plt.show()"
   ]
  },
  {
   "cell_type": "markdown",
   "id": "e810a27c-9306-41b6-8464-a7155fa1ad54",
   "metadata": {},
   "source": [
    "### b)\n",
    "\n",
    "Convert the previous plot to a scatter plot of TPR (Recall) against FPR and color-code each point based on the corresponding profit. Add a `colorbar` to the plot. **(2 points)**"
   ]
  },
  {
   "cell_type": "code",
   "execution_count": 147,
   "id": "d489b348-e0ea-46cc-ad59-f7ac3f6dc843",
   "metadata": {},
   "outputs": [
    {
     "data": {
      "image/png": "[encoded data removed]",
      "text/plain": [
       "<Figure size 800x800 with 2 Axes>"
      ]
     },
     "metadata": {},
     "output_type": "display_data"
    }
   ],
   "source": [
    "\n",
    "\n",
    "fig, ax = plt.subplots(figsize=(8,8))\n",
    "scatter = ax.scatter(fpr, tpr, c=profits, cmap='viridis')\n",
    "cbar = plt.colorbar(scatter)\n",
    "cbar.set_label(\"Profit\")\n",
    "ax.plot([0, 1], [0, 1], 'k--')\n",
    "ax.scatter(x, y, color='red', s=100, edgecolors='black', label=\"Decision threshold\")\n",
    "ax.set_xlabel(\"False Positive Rate\")\n",
    "ax.set_ylabel(\"True Positive Rate (Recall)\")\n",
    "plt.title('ROC Curve with Net Profit')\n",
    "ax.legend()\n",
    "plt.show()\n",
    "\n"
   ]
  },
  {
   "cell_type": "markdown",
   "id": "9775967c-4443-4139-8fad-058f8420dea5",
   "metadata": {},
   "source": [
    "### c)\n",
    "\n",
    "Plot the Precision-Recall (PR) curve for the model you trained in Question 3. Mark the decision threshold you found in Part 3d as **a dashed vertical line**. Make sure you have the axis labels and a legend. **(2 points)**"
   ]
  },
  {
   "cell_type": "code",
   "execution_count": 150,
   "id": "0f20906c-99e3-4a55-acb7-5b0a3dcff4a8",
   "metadata": {},
   "outputs": [
    {
     "data": {
      "text/plain": [
       "<matplotlib.lines.Line2D at 0x16959f800>"
      ]
     },
     "execution_count": 150,
     "metadata": {},
     "output_type": "execute_result"
    },
    {
     "data": {
      "image/png": "[encoded data removed]",
      "text/plain": [
       "<Figure size 800x800 with 1 Axes>"
      ]
     },
     "metadata": {},
     "output_type": "display_data"
    }
   ],
   "source": [
    "p, r, thresholds = precision_recall_curve(test1.y, y1_pred_probs)\n",
    "\n",
    "# max_thres calculated in 3d\n",
    "\n",
    "plt.figure(figsize=(8, 8))\n",
    "plt.title(\"Precision and Recall Scores as a function of the decision threshold\")\n",
    "plt.plot(thresholds, p[:-1], \"b--\", label=\"Precision\")\n",
    "plt.plot(thresholds, r[:-1], \"g-\", label=\"Recall\")\n",
    "plt.ylabel(\"Score\")\n",
    "plt.xlabel(\"Decision Threshold\")\n",
    "plt.legend(loc='best')\n",
    "plt.legend()\n",
    "plt.axvline(max_thres, color='red', linestyle='--')"
   ]
  },
  {
   "cell_type": "markdown",
   "id": "2422b9ba-ded3-45b8-8002-8f66e3480450",
   "metadata": {},
   "source": [
    "## 5) Preprocessing and Prediction with scikit-learn (13 points)"
   ]
  },
  {
   "cell_type": "markdown",
   "id": "0d4d3ec6-a710-4abb-ba20-baf29a4e9d6c",
   "metadata": {},
   "source": [
    "For this question, you will use the training and the **first** test dataset (from **train.csv** and **test1.csv**). **You are only allowed to use scikit-learn, pandas and numpy** to preprocess the data and train a non-linear logistic regression model. You need the following steps:\n",
    "\n",
    "- The classification response is `y`. **(1 point)**\n",
    "- The predictors are `education`, `month`, `day` and `age`. Note that two of them are numeric and two of them are categorical. **(1 point)**\n",
    "- Transform the numerical predictors to **all** their second-order polynomial versions (including the interaction). **(3 points)** You are required to use a scikit-learn object for credit; creating all polynomial terms manually is not accepted.\n",
    "- One-hot-encode the categorical predictors. Drop the dummy variable of the baseline category. **(2 points)** You are required to use only an extra input for this; dropping the variable manually is not accepted.\n",
    "- Concatenate the processed numeric and categorical predictors back together. **(1 point)**\n",
    "- Standard scale the predictors. **(2 points)**\n",
    "\n",
    "Note that both training and test data needs to go through the **exact** same sequence of transformations. You need to be careful about this especially while scaling.\n",
    "\n",
    "Using the preprocessed datasets, create, train and evaluate a Logistic Regression model. Print the accuracy and recall for both the training and the test data with a decision threshold of 0.11. **(3 points)**"
   ]
  },
  {
   "cell_type": "code",
   "execution_count": 154,
   "id": "00249a58-47fd-4742-a281-136c233cd043",
   "metadata": {},
   "outputs": [
    {
     "name": "stdout",
     "output_type": "stream",
     "text": [
      "Train accuracy: 0.6842\n",
      "Test accuracy: 0.6911764705882353\n",
      "Train recall: 0.5891812865497076\n",
      "Test recall: 0.5929054054054054\n"
     ]
    }
   ],
   "source": [
    "# model\n",
    "\n",
    "model = LogisticRegression(penalty=None)\n",
    "\n",
    "# slice predictors and response vars\n",
    "\n",
    "x_train_num = train[['day','age']]\n",
    "x_train_cat = train[['education', 'month']]\n",
    "y_train = train['y']\n",
    "\n",
    "x_test_num = test1[['day','age']]\n",
    "x_test_cat = test1[['education', 'month']]\n",
    "y_test = test1['y']\n",
    "\n",
    "# transformations\n",
    "\n",
    "poly = PolynomialFeatures(2, include_bias = False)\n",
    "\n",
    "x_train_poly = poly.fit_transform(x_train_num)\n",
    "x_train_ohe = pd.get_dummies(x_train_cat, drop_first=True)\n",
    "\n",
    "x_test_poly = poly.fit_transform(x_test_num)\n",
    "x_test_ohe = pd.get_dummies(x_test_cat, drop_first=True)\n",
    "\n",
    "x_train_new = np.concatenate([x_train_poly, x_train_ohe], axis=1)\n",
    "x_test_new = np.concatenate([x_test_poly, x_test_ohe], axis=1)\n",
    "\n",
    "# scaling\n",
    "\n",
    "scaler = StandardScaler()\n",
    "scaler.fit(x_train_new)\n",
    "x_train_scaled = scaler.transform(x_train_new)\n",
    "x_test_scaled = scaler.transform(x_test_new)\n",
    "\n",
    "# model predictions + scores\n",
    "\n",
    "model.fit(x_train_scaled, y_train)\n",
    "thr = 0.11\n",
    "\n",
    "\n",
    "y_train_pred = (model.predict_proba(x_train_scaled)[:,1] > thr)\n",
    "y_test_pred = (model.predict_proba(x_test_scaled)[:,1] > thr)\n",
    "\n",
    "\n",
    "print('Train accuracy:', accuracy_score(y_train, y_train_pred))\n",
    "print('Test accuracy:', accuracy_score(y_test,y_test_pred))\n",
    "\n",
    "print('Train recall:', recall_score(y_train, y_train_pred))\n",
    "print('Test recall:', recall_score(y_test, y_test_pred))"
   ]
  },
  {
   "cell_type": "code",
   "execution_count": null,
   "id": "8457b7ca-8b66-45ec-8444-190b849cc969",
   "metadata": {},
   "outputs": [],
   "source": []
  }
 ],
 "metadata": {
  "kernelspec": {
   "display_name": "Python 3 (ipykernel)",
   "language": "python",
   "name": "python3"
  },
  "language_info": {
   "codemirror_mode": {
    "name": "ipython",
    "version": 3
   },
   "file_extension": ".py",
   "mimetype": "text/x-python",
   "name": "python",
   "nbconvert_exporter": "python",
   "pygments_lexer": "ipython3",
   "version": "3.12.4"
  }
 },
 "nbformat": 4,
 "nbformat_minor": 5
}
